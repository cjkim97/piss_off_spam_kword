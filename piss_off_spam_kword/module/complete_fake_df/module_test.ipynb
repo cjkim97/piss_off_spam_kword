{
 "cells": [
  {
   "cell_type": "code",
   "execution_count": 1,
   "id": "eec9109c-e760-49ce-a2eb-f864bd315366",
   "metadata": {},
   "outputs": [],
   "source": [
    "import sys\n",
    "sys.path.append('/Users/gimchaejeong/Desktop/Projects/piss_off_spam_kword/piss_off_spam_kword/')"
   ]
  },
  {
   "cell_type": "code",
   "execution_count": 3,
   "id": "b527544f-a861-4d12-a5be-37b68faa1599",
   "metadata": {},
   "outputs": [],
   "source": [
    "from module.complete_fake_df import making"
   ]
  },
  {
   "cell_type": "code",
   "execution_count": 4,
   "id": "60a0d797-4d8c-4cd8-b385-f76dbf259eda",
   "metadata": {},
   "outputs": [
    {
     "name": "stdout",
     "output_type": "stream",
     "text": [
      "Finish making the complete_fake_df!!\n"
     ]
    },
    {
     "data": {
      "text/html": [
       "<div>\n",
       "<style scoped>\n",
       "    .dataframe tbody tr th:only-of-type {\n",
       "        vertical-align: middle;\n",
       "    }\n",
       "\n",
       "    .dataframe tbody tr th {\n",
       "        vertical-align: top;\n",
       "    }\n",
       "\n",
       "    .dataframe thead th {\n",
       "        text-align: right;\n",
       "    }\n",
       "</style>\n",
       "<table border=\"1\" class=\"dataframe\">\n",
       "  <thead>\n",
       "    <tr style=\"text-align: right;\">\n",
       "      <th></th>\n",
       "      <th>complete_emoji</th>\n",
       "      <th>emoji_ascii</th>\n",
       "      <th>complete_letter</th>\n",
       "      <th>letter_ascii</th>\n",
       "    </tr>\n",
       "  </thead>\n",
       "  <tbody>\n",
       "    <tr>\n",
       "      <th>0</th>\n",
       "      <td>㈎</td>\n",
       "      <td>12814</td>\n",
       "      <td>가</td>\n",
       "      <td>12814</td>\n",
       "    </tr>\n",
       "    <tr>\n",
       "      <th>1</th>\n",
       "      <td>㈏</td>\n",
       "      <td>12815</td>\n",
       "      <td>나</td>\n",
       "      <td>12815</td>\n",
       "    </tr>\n",
       "    <tr>\n",
       "      <th>2</th>\n",
       "      <td>㈐</td>\n",
       "      <td>12816</td>\n",
       "      <td>다</td>\n",
       "      <td>12816</td>\n",
       "    </tr>\n",
       "    <tr>\n",
       "      <th>3</th>\n",
       "      <td>㈑</td>\n",
       "      <td>12817</td>\n",
       "      <td>라</td>\n",
       "      <td>12817</td>\n",
       "    </tr>\n",
       "    <tr>\n",
       "      <th>4</th>\n",
       "      <td>㈒</td>\n",
       "      <td>12818</td>\n",
       "      <td>마</td>\n",
       "      <td>12818</td>\n",
       "    </tr>\n",
       "    <tr>\n",
       "      <th>...</th>\n",
       "      <td>...</td>\n",
       "      <td>...</td>\n",
       "      <td>...</td>\n",
       "      <td>...</td>\n",
       "    </tr>\n",
       "    <tr>\n",
       "      <th>57</th>\n",
       "      <td>㈉</td>\n",
       "      <td>12809</td>\n",
       "      <td>ㅊ</td>\n",
       "      <td>12809</td>\n",
       "    </tr>\n",
       "    <tr>\n",
       "      <th>58</th>\n",
       "      <td>㈊</td>\n",
       "      <td>12810</td>\n",
       "      <td>ㅋ</td>\n",
       "      <td>12810</td>\n",
       "    </tr>\n",
       "    <tr>\n",
       "      <th>59</th>\n",
       "      <td>㈋</td>\n",
       "      <td>12811</td>\n",
       "      <td>ㅌ</td>\n",
       "      <td>12811</td>\n",
       "    </tr>\n",
       "    <tr>\n",
       "      <th>60</th>\n",
       "      <td>㈌</td>\n",
       "      <td>12812</td>\n",
       "      <td>ㅍ</td>\n",
       "      <td>12812</td>\n",
       "    </tr>\n",
       "    <tr>\n",
       "      <th>61</th>\n",
       "      <td>㈍</td>\n",
       "      <td>12813</td>\n",
       "      <td>ㅎ</td>\n",
       "      <td>12813</td>\n",
       "    </tr>\n",
       "  </tbody>\n",
       "</table>\n",
       "<p>62 rows × 4 columns</p>\n",
       "</div>"
      ],
      "text/plain": [
       "   complete_emoji  emoji_ascii complete_letter letter_ascii\n",
       "0               ㈎        12814               가        12814\n",
       "1               ㈏        12815               나        12815\n",
       "2               ㈐        12816               다        12816\n",
       "3               ㈑        12817               라        12817\n",
       "4               ㈒        12818               마        12818\n",
       "..            ...          ...             ...          ...\n",
       "57              ㈉        12809               ㅊ        12809\n",
       "58              ㈊        12810               ㅋ        12810\n",
       "59              ㈋        12811               ㅌ        12811\n",
       "60              ㈌        12812               ㅍ        12812\n",
       "61              ㈍        12813               ㅎ        12813\n",
       "\n",
       "[62 rows x 4 columns]"
      ]
     },
     "execution_count": 4,
     "metadata": {},
     "output_type": "execute_result"
    }
   ],
   "source": [
    "a = making()\n",
    "a.making(to_csv=False)"
   ]
  },
  {
   "cell_type": "code",
   "execution_count": null,
   "id": "6e213a47-227b-4c38-a7f2-6ef686b1af5a",
   "metadata": {},
   "outputs": [],
   "source": []
  }
 ],
 "metadata": {
  "kernelspec": {
   "display_name": "Python 3 (ipykernel)",
   "language": "python",
   "name": "python3"
  },
  "language_info": {
   "codemirror_mode": {
    "name": "ipython",
    "version": 3
   },
   "file_extension": ".py",
   "mimetype": "text/x-python",
   "name": "python",
   "nbconvert_exporter": "python",
   "pygments_lexer": "ipython3",
   "version": "3.7.13"
  }
 },
 "nbformat": 4,
 "nbformat_minor": 5
}
