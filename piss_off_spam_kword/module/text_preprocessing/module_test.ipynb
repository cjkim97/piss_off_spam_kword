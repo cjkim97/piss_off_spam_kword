{
 "cells": [
  {
   "cell_type": "code",
   "execution_count": 1,
   "id": "1a06639a-2115-43e0-9ad5-b3ca41c68b6f",
   "metadata": {},
   "outputs": [],
   "source": [
    "import sys\n",
    "sys.path.append('/Users/gimchaejeong/Desktop/Projects/piss_off_spam_kword/piss_off_spam_kword/')"
   ]
  },
  {
   "cell_type": "code",
   "execution_count": 2,
   "id": "ea2a5ff9-d8dc-4b11-835e-5de376b3810f",
   "metadata": {},
   "outputs": [],
   "source": [
    "from module.text_preprocessing import tp"
   ]
  },
  {
   "cell_type": "code",
   "execution_count": 3,
   "id": "3a786362-fe01-4465-a601-6b73778b59c2",
   "metadata": {},
   "outputs": [],
   "source": [
    "origin_text1 = '㉲이쭈 ㅅr고rEㅣ비'\n",
    "origin_text = '㉲이쭈 ㅅr고rEㅣ비 22'"
   ]
  },
  {
   "cell_type": "code",
   "execution_count": 4,
   "id": "f9a44c9e-4744-41c1-990a-093cccaca2c9",
   "metadata": {},
   "outputs": [
    {
     "name": "stdout",
     "output_type": "stream",
     "text": [
      "만나서 반갑습니다! Mail : nuang0530@naver.com\n",
      "Initialize the Okt Tagger...\n",
      "Complete initializing!!!\n",
      "CPU times: user 1min 44s, sys: 37.4 s, total: 2min 21s\n",
      "Wall time: 2min 8s\n"
     ]
    }
   ],
   "source": [
    "%%time\n",
    "pk = tp(origin_text)"
   ]
  },
  {
   "cell_type": "code",
   "execution_count": 5,
   "id": "8d168eaf-d19c-40d1-85b9-8fd8b6136e92",
   "metadata": {},
   "outputs": [],
   "source": [
    "stage1_text = pk.Stage1(origin_text)\n",
    "stage2_text = pk.Stage2(stage1_text)\n",
    "stage3_text = pk.Stage3(stage2_text[0], stage2_text[1] )"
   ]
  },
  {
   "cell_type": "code",
   "execution_count": 6,
   "id": "d16c2ed8-8ab0-432a-8f9c-164a03cd4975",
   "metadata": {},
   "outputs": [
    {
     "name": "stdout",
     "output_type": "stream",
     "text": [
      "마이쭈 ㅅr고rEㅣ비 22\n",
      "([['ㅅ', 'r'], ['고', 'r', 'E', 'ㅣ'], ['비', '2', '2']], [['KoreanParticle', 'Alpha'], ['Noun', 'Alpha', 'Alpha', 'KoreanParticle'], ['Noun', 'Number', 'Number']])\n",
      "{0: [['ㅅr']], 1: [['고', 'rE', 'ㅣ'], ['고', 'rEㅣ'], ['고rE', 'ㅣ'], ['고r', 'E', 'ㅣ'], ['고', 'r', 'E', 'ㅣ'], ['고', 'r', 'Eㅣ'], ['고rEㅣ'], ['고r', 'Eㅣ']], 2: [['비', '22'], ['비', '2', '2'], ['비22'], ['비2', '2']]}\n"
     ]
    }
   ],
   "source": [
    "print(stage1_text)\n",
    "print(stage2_text)\n",
    "print(stage3_text)"
   ]
  },
  {
   "cell_type": "code",
   "execution_count": 7,
   "id": "10e8eb46-bdfb-4d10-baf6-9f99ced98748",
   "metadata": {},
   "outputs": [
    {
     "data": {
      "text/plain": [
       "{0: [['ㅅr']],\n",
       " 1: [['고', 'rE', 'ㅣ'],\n",
       "  ['고', 'rEㅣ'],\n",
       "  ['고rE', 'ㅣ'],\n",
       "  ['고r', 'E', 'ㅣ'],\n",
       "  ['고', 'r', 'E', 'ㅣ'],\n",
       "  ['고', 'r', 'Eㅣ'],\n",
       "  ['고rEㅣ'],\n",
       "  ['고r', 'Eㅣ']],\n",
       " 2: [['비', '22'], ['비', '2', '2'], ['비22'], ['비2', '2']]}"
      ]
     },
     "execution_count": 7,
     "metadata": {},
     "output_type": "execute_result"
    }
   ],
   "source": [
    "pk.process()"
   ]
  }
 ],
 "metadata": {
  "kernelspec": {
   "display_name": "Python 3 (ipykernel)",
   "language": "python",
   "name": "python3"
  },
  "language_info": {
   "codemirror_mode": {
    "name": "ipython",
    "version": 3
   },
   "file_extension": ".py",
   "mimetype": "text/x-python",
   "name": "python",
   "nbconvert_exporter": "python",
   "pygments_lexer": "ipython3",
   "version": "3.7.13"
  }
 },
 "nbformat": 4,
 "nbformat_minor": 5
}
