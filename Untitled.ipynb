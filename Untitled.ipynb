{
 "cells": [
  {
   "cell_type": "code",
   "execution_count": 1,
   "id": "10fc3d9b-b34f-420e-aab6-11e3826572d1",
   "metadata": {},
   "outputs": [],
   "source": [
    "import kspam_filtering"
   ]
  },
  {
   "cell_type": "code",
   "execution_count": 2,
   "id": "41716f3d-c292-4872-8680-cb43975b6291",
   "metadata": {},
   "outputs": [],
   "source": [
    "from kspam_filtering.module.complete_fake_df import making"
   ]
  },
  {
   "cell_type": "code",
   "execution_count": 3,
   "id": "6a19cd42-3abd-4681-81cb-9ee6c1c17657",
   "metadata": {},
   "outputs": [],
   "source": [
    "from kspam_filtering.module.text_preprocessing import tp"
   ]
  },
  {
   "cell_type": "code",
   "execution_count": 4,
   "id": "09fb5625-4b8e-44a1-9303-769fb0975503",
   "metadata": {},
   "outputs": [],
   "source": [
    "text = '안녕하세요 ^^'"
   ]
  },
  {
   "cell_type": "code",
   "execution_count": 5,
   "id": "f538812f-7c8f-4be6-910f-0548583e8aa7",
   "metadata": {},
   "outputs": [
    {
     "name": "stdout",
     "output_type": "stream",
     "text": [
      "만나서 반갑습니다! Mail : nuang0530@naver.com\n",
      "Initialize the Okt Tagger...\n",
      "Complete initializing!!!\n"
     ]
    }
   ],
   "source": [
    "mk = making()"
   ]
  },
  {
   "cell_type": "code",
   "execution_count": 6,
   "id": "7ba5d15a-7eae-44e4-b6f7-b465ebe3e41d",
   "metadata": {},
   "outputs": [
    {
     "name": "stdout",
     "output_type": "stream",
     "text": [
      "Finish making the complete_fake_df!!\n"
     ]
    }
   ],
   "source": [
    "a = mk.making(csv_save=False)"
   ]
  },
  {
   "cell_type": "code",
   "execution_count": 8,
   "id": "43f60ae5-7e9c-4ca1-94c0-acc9c75451f3",
   "metadata": {},
   "outputs": [
    {
     "name": "stdout",
     "output_type": "stream",
     "text": [
      "만나서 반갑습니다! Mail : nuang0530@naver.com\n",
      "Initialize the Okt Tagger...\n",
      "Complete initializing!!!\n"
     ]
    }
   ],
   "source": [
    "cls = tp(complete_fake_df=a)"
   ]
  },
  {
   "cell_type": "code",
   "execution_count": 9,
   "id": "14f90774-8774-4732-88be-61b40ca547fd",
   "metadata": {},
   "outputs": [],
   "source": [
    "cls.origin_text = text"
   ]
  },
  {
   "cell_type": "code",
   "execution_count": 10,
   "id": "fac0ea48-e31d-4110-b28b-43152c14c35c",
   "metadata": {},
   "outputs": [
    {
     "data": {
      "text/plain": [
       "{0: [['요', '^^'], ['요', '^', '^'], ['요^^'], ['요^', '^']]}"
      ]
     },
     "execution_count": 10,
     "metadata": {},
     "output_type": "execute_result"
    }
   ],
   "source": [
    "cls.process()"
   ]
  },
  {
   "cell_type": "code",
   "execution_count": null,
   "id": "513cc459-54de-4d27-b30b-1f3a3347c6f1",
   "metadata": {},
   "outputs": [],
   "source": []
  }
 ],
 "metadata": {
  "kernelspec": {
   "display_name": "Python 3 (ipykernel)",
   "language": "python",
   "name": "python3"
  },
  "language_info": {
   "codemirror_mode": {
    "name": "ipython",
    "version": 3
   },
   "file_extension": ".py",
   "mimetype": "text/x-python",
   "name": "python",
   "nbconvert_exporter": "python",
   "pygments_lexer": "ipython3",
   "version": "3.7.13"
  }
 },
 "nbformat": 4,
 "nbformat_minor": 5
}
